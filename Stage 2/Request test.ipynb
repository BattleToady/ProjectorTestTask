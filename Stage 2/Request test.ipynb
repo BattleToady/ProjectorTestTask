{
 "cells": [
  {
   "cell_type": "code",
   "execution_count": 37,
   "id": "43a892ba",
   "metadata": {},
   "outputs": [
    {
     "name": "stdout",
     "output_type": "stream",
     "text": [
      "Result code:  <Response [200]>\n",
      "Result:  b'{\"scores\":[-0.47953455326829025]}'\n"
     ]
    }
   ],
   "source": [
    "import requests\n",
    "import json\n",
    "\n",
    "url = 'http://127.0.0.1:8000/predict'\n",
    "params = { 'text' : ['Product Operations Software Engineer (DevOps / SRE)']}\n",
    "\n",
    "result = requests.post(url, json = params)\n",
    "\n",
    "print('Result code: ', result)\n",
    "print('Result: ', result.content)"
   ]
  },
  {
   "cell_type": "code",
   "execution_count": null,
   "id": "ecdf96db",
   "metadata": {},
   "outputs": [],
   "source": []
  }
 ],
 "metadata": {
  "kernelspec": {
   "display_name": "Python 3 (ipykernel)",
   "language": "python",
   "name": "python3"
  },
  "language_info": {
   "codemirror_mode": {
    "name": "ipython",
    "version": 3
   },
   "file_extension": ".py",
   "mimetype": "text/x-python",
   "name": "python",
   "nbconvert_exporter": "python",
   "pygments_lexer": "ipython3",
   "version": "3.10.1"
  }
 },
 "nbformat": 4,
 "nbformat_minor": 5
}
