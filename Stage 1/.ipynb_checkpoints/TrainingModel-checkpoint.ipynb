{
 "cells": [
  {
   "cell_type": "code",
   "execution_count": 1,
   "id": "d42b4869",
   "metadata": {},
   "outputs": [],
   "source": [
    "import pandas as pd\n",
    "from matplotlib import pyplot as plt\n",
    "from sklearn.feature_extraction.text import TfidfVectorizer\n",
    "from sklearn.linear_model import LinearRegression\n",
    "from sklearn.model_selection import train_test_split\n",
    "from sklearn.metrics import mean_squared_error\n",
    "from sklearn.pipeline import Pipeline\n",
    "import joblib"
   ]
  },
  {
   "cell_type": "markdown",
   "id": "4227c64b",
   "metadata": {},
   "source": [
    "## Importing Data"
   ]
  },
  {
   "cell_type": "code",
   "execution_count": 2,
   "id": "28cd7fbd",
   "metadata": {},
   "outputs": [],
   "source": [
    "df = pd.read_csv('train.csv')"
   ]
  },
  {
   "cell_type": "markdown",
   "id": "18490c23",
   "metadata": {},
   "source": [
    "## Looking at data and Data Clearing"
   ]
  },
  {
   "cell_type": "code",
   "execution_count": 3,
   "id": "dd2f2efb",
   "metadata": {},
   "outputs": [
    {
     "data": {
      "text/html": [
       "<div>\n",
       "<style scoped>\n",
       "    .dataframe tbody tr th:only-of-type {\n",
       "        vertical-align: middle;\n",
       "    }\n",
       "\n",
       "    .dataframe tbody tr th {\n",
       "        vertical-align: top;\n",
       "    }\n",
       "\n",
       "    .dataframe thead th {\n",
       "        text-align: right;\n",
       "    }\n",
       "</style>\n",
       "<table border=\"1\" class=\"dataframe\">\n",
       "  <thead>\n",
       "    <tr style=\"text-align: right;\">\n",
       "      <th></th>\n",
       "      <th>id</th>\n",
       "      <th>url_legal</th>\n",
       "      <th>license</th>\n",
       "      <th>excerpt</th>\n",
       "      <th>target</th>\n",
       "      <th>standard_error</th>\n",
       "    </tr>\n",
       "  </thead>\n",
       "  <tbody>\n",
       "    <tr>\n",
       "      <th>0</th>\n",
       "      <td>c12129c31</td>\n",
       "      <td>NaN</td>\n",
       "      <td>NaN</td>\n",
       "      <td>When the young people returned to the ballroom...</td>\n",
       "      <td>-0.340259</td>\n",
       "      <td>0.464009</td>\n",
       "    </tr>\n",
       "    <tr>\n",
       "      <th>1</th>\n",
       "      <td>85aa80a4c</td>\n",
       "      <td>NaN</td>\n",
       "      <td>NaN</td>\n",
       "      <td>All through dinner time, Mrs. Fayre was somewh...</td>\n",
       "      <td>-0.315372</td>\n",
       "      <td>0.480805</td>\n",
       "    </tr>\n",
       "    <tr>\n",
       "      <th>2</th>\n",
       "      <td>b69ac6792</td>\n",
       "      <td>NaN</td>\n",
       "      <td>NaN</td>\n",
       "      <td>As Roger had predicted, the snow departed as q...</td>\n",
       "      <td>-0.580118</td>\n",
       "      <td>0.476676</td>\n",
       "    </tr>\n",
       "    <tr>\n",
       "      <th>3</th>\n",
       "      <td>dd1000b26</td>\n",
       "      <td>NaN</td>\n",
       "      <td>NaN</td>\n",
       "      <td>And outside before the palace a great garden w...</td>\n",
       "      <td>-1.054013</td>\n",
       "      <td>0.450007</td>\n",
       "    </tr>\n",
       "    <tr>\n",
       "      <th>4</th>\n",
       "      <td>37c1b32fb</td>\n",
       "      <td>NaN</td>\n",
       "      <td>NaN</td>\n",
       "      <td>Once upon a time there were Three Bears who li...</td>\n",
       "      <td>0.247197</td>\n",
       "      <td>0.510845</td>\n",
       "    </tr>\n",
       "  </tbody>\n",
       "</table>\n",
       "</div>"
      ],
      "text/plain": [
       "          id url_legal license   \n",
       "0  c12129c31       NaN     NaN  \\\n",
       "1  85aa80a4c       NaN     NaN   \n",
       "2  b69ac6792       NaN     NaN   \n",
       "3  dd1000b26       NaN     NaN   \n",
       "4  37c1b32fb       NaN     NaN   \n",
       "\n",
       "                                             excerpt    target  standard_error  \n",
       "0  When the young people returned to the ballroom... -0.340259        0.464009  \n",
       "1  All through dinner time, Mrs. Fayre was somewh... -0.315372        0.480805  \n",
       "2  As Roger had predicted, the snow departed as q... -0.580118        0.476676  \n",
       "3  And outside before the palace a great garden w... -1.054013        0.450007  \n",
       "4  Once upon a time there were Three Bears who li...  0.247197        0.510845  "
      ]
     },
     "execution_count": 3,
     "metadata": {},
     "output_type": "execute_result"
    }
   ],
   "source": [
    "df.head()"
   ]
  },
  {
   "cell_type": "code",
   "execution_count": 4,
   "id": "be4773c5",
   "metadata": {},
   "outputs": [
    {
     "data": {
      "text/plain": [
       "False"
      ]
     },
     "execution_count": 4,
     "metadata": {},
     "output_type": "execute_result"
    }
   ],
   "source": [
    "df.duplicated().any()"
   ]
  },
  {
   "cell_type": "code",
   "execution_count": 5,
   "id": "48346f09",
   "metadata": {},
   "outputs": [
    {
     "data": {
      "text/plain": [
       "id                False\n",
       "url_legal          True\n",
       "license            True\n",
       "excerpt           False\n",
       "target            False\n",
       "standard_error    False\n",
       "dtype: bool"
      ]
     },
     "execution_count": 5,
     "metadata": {},
     "output_type": "execute_result"
    }
   ],
   "source": [
    "df.isna().any()"
   ]
  },
  {
   "cell_type": "markdown",
   "id": "29a9e989",
   "metadata": {},
   "source": [
    "We have nan for url_legal and license, but it doesn't matter for model"
   ]
  },
  {
   "cell_type": "code",
   "execution_count": 6,
   "id": "3d41fb44",
   "metadata": {},
   "outputs": [
    {
     "data": {
      "text/plain": [
       "<Axes: >"
      ]
     },
     "execution_count": 6,
     "metadata": {},
     "output_type": "execute_result"
    },
    {
     "data": {
      "image/png": "[encoded data removed]",
      "text/plain": [
       "<Figure size 640x480 with 1 Axes>"
      ]
     },
     "metadata": {},
     "output_type": "display_data"
    }
   ],
   "source": [
    "df.boxplot('target')"
   ]
  },
  {
   "cell_type": "code",
   "execution_count": 7,
   "id": "4e464d97",
   "metadata": {},
   "outputs": [
    {
     "data": {
      "image/png": "[encoded data removed]",
      "text/plain": [
       "<Figure size 640x480 with 1 Axes>"
      ]
     },
     "metadata": {},
     "output_type": "display_data"
    }
   ],
   "source": [
    "plt.boxplot(x = df.standard_error)\n",
    "plt.show()"
   ]
  },
  {
   "cell_type": "code",
   "execution_count": 8,
   "id": "ee775b8a",
   "metadata": {},
   "outputs": [
    {
     "data": {
      "text/plain": [
       "count    2834.000000\n",
       "mean        0.491435\n",
       "std         0.034818\n",
       "min         0.000000\n",
       "25%         0.468543\n",
       "50%         0.484721\n",
       "75%         0.506268\n",
       "max         0.649671\n",
       "Name: standard_error, dtype: float64"
      ]
     },
     "execution_count": 8,
     "metadata": {},
     "output_type": "execute_result"
    }
   ],
   "source": [
    "df.standard_error.describe()"
   ]
  },
  {
   "cell_type": "code",
   "execution_count": 9,
   "id": "1eaa2567",
   "metadata": {},
   "outputs": [
    {
     "data": {
      "text/html": [
       "<div>\n",
       "<style scoped>\n",
       "    .dataframe tbody tr th:only-of-type {\n",
       "        vertical-align: middle;\n",
       "    }\n",
       "\n",
       "    .dataframe tbody tr th {\n",
       "        vertical-align: top;\n",
       "    }\n",
       "\n",
       "    .dataframe thead th {\n",
       "        text-align: right;\n",
       "    }\n",
       "</style>\n",
       "<table border=\"1\" class=\"dataframe\">\n",
       "  <thead>\n",
       "    <tr style=\"text-align: right;\">\n",
       "      <th></th>\n",
       "      <th>id</th>\n",
       "      <th>url_legal</th>\n",
       "      <th>license</th>\n",
       "      <th>excerpt</th>\n",
       "      <th>target</th>\n",
       "      <th>standard_error</th>\n",
       "    </tr>\n",
       "  </thead>\n",
       "  <tbody>\n",
       "    <tr>\n",
       "      <th>106</th>\n",
       "      <td>436ce79fe</td>\n",
       "      <td>NaN</td>\n",
       "      <td>NaN</td>\n",
       "      <td>The sun was shining in a cloudless sky, and no...</td>\n",
       "      <td>0.0</td>\n",
       "      <td>0.0</td>\n",
       "    </tr>\n",
       "  </tbody>\n",
       "</table>\n",
       "</div>"
      ],
      "text/plain": [
       "            id url_legal license   \n",
       "106  436ce79fe       NaN     NaN  \\\n",
       "\n",
       "                                               excerpt  target  standard_error  \n",
       "106  The sun was shining in a cloudless sky, and no...     0.0             0.0  "
      ]
     },
     "execution_count": 9,
     "metadata": {},
     "output_type": "execute_result"
    }
   ],
   "source": [
    "df[df.standard_error == 0]"
   ]
  },
  {
   "cell_type": "code",
   "execution_count": 10,
   "id": "33e6bc85",
   "metadata": {},
   "outputs": [
    {
     "data": {
      "image/png": "[encoded data removed]",
      "text/plain": [
       "<Figure size 640x480 with 1 Axes>"
      ]
     },
     "metadata": {},
     "output_type": "display_data"
    }
   ],
   "source": [
    "plt.hist(df.standard_error)\n",
    "plt.show()"
   ]
  },
  {
   "cell_type": "code",
   "execution_count": 11,
   "id": "1f8fff9e",
   "metadata": {},
   "outputs": [
    {
     "data": {
      "image/png": "[encoded data removed]",
      "text/plain": [
       "<Figure size 640x480 with 1 Axes>"
      ]
     },
     "metadata": {},
     "output_type": "display_data"
    }
   ],
   "source": [
    "plt.scatter(df.standard_error, df.target)\n",
    "plt.show()"
   ]
  },
  {
   "cell_type": "markdown",
   "id": "11d56466",
   "metadata": {},
   "source": [
    "Seems standard_error = target^2 relationship with high variance"
   ]
  },
  {
   "cell_type": "code",
   "execution_count": 12,
   "id": "99f8d62a",
   "metadata": {},
   "outputs": [
    {
     "data": {
      "text/plain": [
       "2834"
      ]
     },
     "execution_count": 12,
     "metadata": {},
     "output_type": "execute_result"
    }
   ],
   "source": [
    "len(df)"
   ]
  },
  {
   "cell_type": "markdown",
   "id": "d5a67b0c",
   "metadata": {},
   "source": [
    "## Splitting Data into train/test sets"
   ]
  },
  {
   "cell_type": "code",
   "execution_count": 13,
   "id": "152ab58c",
   "metadata": {},
   "outputs": [],
   "source": [
    "df_train, df_test = train_test_split(df, test_size = 0.1, random_state = 42)"
   ]
  },
  {
   "cell_type": "markdown",
   "id": "3602fd2d",
   "metadata": {},
   "source": [
    "## Applying Tf-Idf vectorizer"
   ]
  },
  {
   "cell_type": "code",
   "execution_count": 14,
   "id": "e58d12de",
   "metadata": {},
   "outputs": [],
   "source": [
    "vectorizer = TfidfVectorizer(min_df = 0.05, max_df = 0.95)\n",
    "X_train = vectorizer.fit_transform(df_train.excerpt)\n",
    "y_train = df_train.target"
   ]
  },
  {
   "cell_type": "code",
   "execution_count": 15,
   "id": "ec4f8979",
   "metadata": {},
   "outputs": [
    {
     "data": {
      "text/html": [
       "<div>\n",
       "<style scoped>\n",
       "    .dataframe tbody tr th:only-of-type {\n",
       "        vertical-align: middle;\n",
       "    }\n",
       "\n",
       "    .dataframe tbody tr th {\n",
       "        vertical-align: top;\n",
       "    }\n",
       "\n",
       "    .dataframe thead th {\n",
       "        text-align: right;\n",
       "    }\n",
       "</style>\n",
       "<table border=\"1\" class=\"dataframe\">\n",
       "  <thead>\n",
       "    <tr style=\"text-align: right;\">\n",
       "      <th></th>\n",
       "      <th>about</th>\n",
       "      <th>after</th>\n",
       "      <th>again</th>\n",
       "      <th>against</th>\n",
       "      <th>air</th>\n",
       "      <th>all</th>\n",
       "      <th>almost</th>\n",
       "      <th>along</th>\n",
       "      <th>also</th>\n",
       "      <th>always</th>\n",
       "      <th>...</th>\n",
       "      <th>without</th>\n",
       "      <th>work</th>\n",
       "      <th>world</th>\n",
       "      <th>would</th>\n",
       "      <th>year</th>\n",
       "      <th>years</th>\n",
       "      <th>yet</th>\n",
       "      <th>you</th>\n",
       "      <th>young</th>\n",
       "      <th>your</th>\n",
       "    </tr>\n",
       "  </thead>\n",
       "  <tbody>\n",
       "    <tr>\n",
       "      <th>0</th>\n",
       "      <td>0.086746</td>\n",
       "      <td>0.000000</td>\n",
       "      <td>0.000000</td>\n",
       "      <td>0.0</td>\n",
       "      <td>0.140447</td>\n",
       "      <td>0.067255</td>\n",
       "      <td>0.0</td>\n",
       "      <td>0.0</td>\n",
       "      <td>0.000000</td>\n",
       "      <td>0.000000</td>\n",
       "      <td>...</td>\n",
       "      <td>0.000000</td>\n",
       "      <td>0.0</td>\n",
       "      <td>0.000000</td>\n",
       "      <td>0.000000</td>\n",
       "      <td>0.0</td>\n",
       "      <td>0.0</td>\n",
       "      <td>0.0</td>\n",
       "      <td>0.000000</td>\n",
       "      <td>0.0</td>\n",
       "      <td>0.0</td>\n",
       "    </tr>\n",
       "    <tr>\n",
       "      <th>1</th>\n",
       "      <td>0.000000</td>\n",
       "      <td>0.000000</td>\n",
       "      <td>0.000000</td>\n",
       "      <td>0.0</td>\n",
       "      <td>0.000000</td>\n",
       "      <td>0.057783</td>\n",
       "      <td>0.0</td>\n",
       "      <td>0.0</td>\n",
       "      <td>0.000000</td>\n",
       "      <td>0.000000</td>\n",
       "      <td>...</td>\n",
       "      <td>0.000000</td>\n",
       "      <td>0.0</td>\n",
       "      <td>0.104824</td>\n",
       "      <td>0.076725</td>\n",
       "      <td>0.0</td>\n",
       "      <td>0.0</td>\n",
       "      <td>0.0</td>\n",
       "      <td>0.000000</td>\n",
       "      <td>0.0</td>\n",
       "      <td>0.0</td>\n",
       "    </tr>\n",
       "    <tr>\n",
       "      <th>2</th>\n",
       "      <td>0.000000</td>\n",
       "      <td>0.000000</td>\n",
       "      <td>0.000000</td>\n",
       "      <td>0.0</td>\n",
       "      <td>0.000000</td>\n",
       "      <td>0.085428</td>\n",
       "      <td>0.0</td>\n",
       "      <td>0.0</td>\n",
       "      <td>0.000000</td>\n",
       "      <td>0.000000</td>\n",
       "      <td>...</td>\n",
       "      <td>0.000000</td>\n",
       "      <td>0.0</td>\n",
       "      <td>0.000000</td>\n",
       "      <td>0.000000</td>\n",
       "      <td>0.0</td>\n",
       "      <td>0.0</td>\n",
       "      <td>0.0</td>\n",
       "      <td>0.000000</td>\n",
       "      <td>0.0</td>\n",
       "      <td>0.0</td>\n",
       "    </tr>\n",
       "    <tr>\n",
       "      <th>3</th>\n",
       "      <td>0.000000</td>\n",
       "      <td>0.080835</td>\n",
       "      <td>0.102118</td>\n",
       "      <td>0.0</td>\n",
       "      <td>0.000000</td>\n",
       "      <td>0.000000</td>\n",
       "      <td>0.0</td>\n",
       "      <td>0.0</td>\n",
       "      <td>0.000000</td>\n",
       "      <td>0.000000</td>\n",
       "      <td>...</td>\n",
       "      <td>0.000000</td>\n",
       "      <td>0.0</td>\n",
       "      <td>0.000000</td>\n",
       "      <td>0.000000</td>\n",
       "      <td>0.0</td>\n",
       "      <td>0.0</td>\n",
       "      <td>0.0</td>\n",
       "      <td>0.000000</td>\n",
       "      <td>0.0</td>\n",
       "      <td>0.0</td>\n",
       "    </tr>\n",
       "    <tr>\n",
       "      <th>4</th>\n",
       "      <td>0.000000</td>\n",
       "      <td>0.000000</td>\n",
       "      <td>0.000000</td>\n",
       "      <td>0.0</td>\n",
       "      <td>0.000000</td>\n",
       "      <td>0.065398</td>\n",
       "      <td>0.0</td>\n",
       "      <td>0.0</td>\n",
       "      <td>0.000000</td>\n",
       "      <td>0.000000</td>\n",
       "      <td>...</td>\n",
       "      <td>0.229206</td>\n",
       "      <td>0.0</td>\n",
       "      <td>0.000000</td>\n",
       "      <td>0.000000</td>\n",
       "      <td>0.0</td>\n",
       "      <td>0.0</td>\n",
       "      <td>0.0</td>\n",
       "      <td>0.000000</td>\n",
       "      <td>0.0</td>\n",
       "      <td>0.0</td>\n",
       "    </tr>\n",
       "    <tr>\n",
       "      <th>...</th>\n",
       "      <td>...</td>\n",
       "      <td>...</td>\n",
       "      <td>...</td>\n",
       "      <td>...</td>\n",
       "      <td>...</td>\n",
       "      <td>...</td>\n",
       "      <td>...</td>\n",
       "      <td>...</td>\n",
       "      <td>...</td>\n",
       "      <td>...</td>\n",
       "      <td>...</td>\n",
       "      <td>...</td>\n",
       "      <td>...</td>\n",
       "      <td>...</td>\n",
       "      <td>...</td>\n",
       "      <td>...</td>\n",
       "      <td>...</td>\n",
       "      <td>...</td>\n",
       "      <td>...</td>\n",
       "      <td>...</td>\n",
       "      <td>...</td>\n",
       "    </tr>\n",
       "    <tr>\n",
       "      <th>2545</th>\n",
       "      <td>0.000000</td>\n",
       "      <td>0.000000</td>\n",
       "      <td>0.000000</td>\n",
       "      <td>0.0</td>\n",
       "      <td>0.000000</td>\n",
       "      <td>0.000000</td>\n",
       "      <td>0.0</td>\n",
       "      <td>0.0</td>\n",
       "      <td>0.000000</td>\n",
       "      <td>0.000000</td>\n",
       "      <td>...</td>\n",
       "      <td>0.000000</td>\n",
       "      <td>0.0</td>\n",
       "      <td>0.000000</td>\n",
       "      <td>0.000000</td>\n",
       "      <td>0.0</td>\n",
       "      <td>0.0</td>\n",
       "      <td>0.0</td>\n",
       "      <td>0.000000</td>\n",
       "      <td>0.0</td>\n",
       "      <td>0.0</td>\n",
       "    </tr>\n",
       "    <tr>\n",
       "      <th>2546</th>\n",
       "      <td>0.000000</td>\n",
       "      <td>0.000000</td>\n",
       "      <td>0.000000</td>\n",
       "      <td>0.0</td>\n",
       "      <td>0.071539</td>\n",
       "      <td>0.000000</td>\n",
       "      <td>0.0</td>\n",
       "      <td>0.0</td>\n",
       "      <td>0.051424</td>\n",
       "      <td>0.131331</td>\n",
       "      <td>...</td>\n",
       "      <td>0.000000</td>\n",
       "      <td>0.0</td>\n",
       "      <td>0.000000</td>\n",
       "      <td>0.000000</td>\n",
       "      <td>0.0</td>\n",
       "      <td>0.0</td>\n",
       "      <td>0.0</td>\n",
       "      <td>0.043705</td>\n",
       "      <td>0.0</td>\n",
       "      <td>0.0</td>\n",
       "    </tr>\n",
       "    <tr>\n",
       "      <th>2547</th>\n",
       "      <td>0.000000</td>\n",
       "      <td>0.000000</td>\n",
       "      <td>0.000000</td>\n",
       "      <td>0.0</td>\n",
       "      <td>0.000000</td>\n",
       "      <td>0.000000</td>\n",
       "      <td>0.0</td>\n",
       "      <td>0.0</td>\n",
       "      <td>0.000000</td>\n",
       "      <td>0.221418</td>\n",
       "      <td>...</td>\n",
       "      <td>0.000000</td>\n",
       "      <td>0.0</td>\n",
       "      <td>0.104777</td>\n",
       "      <td>0.000000</td>\n",
       "      <td>0.0</td>\n",
       "      <td>0.0</td>\n",
       "      <td>0.0</td>\n",
       "      <td>0.073686</td>\n",
       "      <td>0.0</td>\n",
       "      <td>0.0</td>\n",
       "    </tr>\n",
       "    <tr>\n",
       "      <th>2548</th>\n",
       "      <td>0.000000</td>\n",
       "      <td>0.174402</td>\n",
       "      <td>0.110160</td>\n",
       "      <td>0.0</td>\n",
       "      <td>0.000000</td>\n",
       "      <td>0.119383</td>\n",
       "      <td>0.0</td>\n",
       "      <td>0.0</td>\n",
       "      <td>0.000000</td>\n",
       "      <td>0.114418</td>\n",
       "      <td>...</td>\n",
       "      <td>0.000000</td>\n",
       "      <td>0.0</td>\n",
       "      <td>0.000000</td>\n",
       "      <td>0.000000</td>\n",
       "      <td>0.0</td>\n",
       "      <td>0.0</td>\n",
       "      <td>0.0</td>\n",
       "      <td>0.000000</td>\n",
       "      <td>0.0</td>\n",
       "      <td>0.0</td>\n",
       "    </tr>\n",
       "    <tr>\n",
       "      <th>2549</th>\n",
       "      <td>0.000000</td>\n",
       "      <td>0.000000</td>\n",
       "      <td>0.000000</td>\n",
       "      <td>0.0</td>\n",
       "      <td>0.000000</td>\n",
       "      <td>0.000000</td>\n",
       "      <td>0.0</td>\n",
       "      <td>0.0</td>\n",
       "      <td>0.000000</td>\n",
       "      <td>0.000000</td>\n",
       "      <td>...</td>\n",
       "      <td>0.000000</td>\n",
       "      <td>0.0</td>\n",
       "      <td>0.000000</td>\n",
       "      <td>0.000000</td>\n",
       "      <td>0.0</td>\n",
       "      <td>0.0</td>\n",
       "      <td>0.0</td>\n",
       "      <td>0.369421</td>\n",
       "      <td>0.0</td>\n",
       "      <td>0.0</td>\n",
       "    </tr>\n",
       "  </tbody>\n",
       "</table>\n",
       "<p>2550 rows × 275 columns</p>\n",
       "</div>"
      ],
      "text/plain": [
       "         about     after     again  against       air       all  almost   \n",
       "0     0.086746  0.000000  0.000000      0.0  0.140447  0.067255     0.0  \\\n",
       "1     0.000000  0.000000  0.000000      0.0  0.000000  0.057783     0.0   \n",
       "2     0.000000  0.000000  0.000000      0.0  0.000000  0.085428     0.0   \n",
       "3     0.000000  0.080835  0.102118      0.0  0.000000  0.000000     0.0   \n",
       "4     0.000000  0.000000  0.000000      0.0  0.000000  0.065398     0.0   \n",
       "...        ...       ...       ...      ...       ...       ...     ...   \n",
       "2545  0.000000  0.000000  0.000000      0.0  0.000000  0.000000     0.0   \n",
       "2546  0.000000  0.000000  0.000000      0.0  0.071539  0.000000     0.0   \n",
       "2547  0.000000  0.000000  0.000000      0.0  0.000000  0.000000     0.0   \n",
       "2548  0.000000  0.174402  0.110160      0.0  0.000000  0.119383     0.0   \n",
       "2549  0.000000  0.000000  0.000000      0.0  0.000000  0.000000     0.0   \n",
       "\n",
       "      along      also    always  ...   without  work     world     would   \n",
       "0       0.0  0.000000  0.000000  ...  0.000000   0.0  0.000000  0.000000  \\\n",
       "1       0.0  0.000000  0.000000  ...  0.000000   0.0  0.104824  0.076725   \n",
       "2       0.0  0.000000  0.000000  ...  0.000000   0.0  0.000000  0.000000   \n",
       "3       0.0  0.000000  0.000000  ...  0.000000   0.0  0.000000  0.000000   \n",
       "4       0.0  0.000000  0.000000  ...  0.229206   0.0  0.000000  0.000000   \n",
       "...     ...       ...       ...  ...       ...   ...       ...       ...   \n",
       "2545    0.0  0.000000  0.000000  ...  0.000000   0.0  0.000000  0.000000   \n",
       "2546    0.0  0.051424  0.131331  ...  0.000000   0.0  0.000000  0.000000   \n",
       "2547    0.0  0.000000  0.221418  ...  0.000000   0.0  0.104777  0.000000   \n",
       "2548    0.0  0.000000  0.114418  ...  0.000000   0.0  0.000000  0.000000   \n",
       "2549    0.0  0.000000  0.000000  ...  0.000000   0.0  0.000000  0.000000   \n",
       "\n",
       "      year  years  yet       you  young  your  \n",
       "0      0.0    0.0  0.0  0.000000    0.0   0.0  \n",
       "1      0.0    0.0  0.0  0.000000    0.0   0.0  \n",
       "2      0.0    0.0  0.0  0.000000    0.0   0.0  \n",
       "3      0.0    0.0  0.0  0.000000    0.0   0.0  \n",
       "4      0.0    0.0  0.0  0.000000    0.0   0.0  \n",
       "...    ...    ...  ...       ...    ...   ...  \n",
       "2545   0.0    0.0  0.0  0.000000    0.0   0.0  \n",
       "2546   0.0    0.0  0.0  0.043705    0.0   0.0  \n",
       "2547   0.0    0.0  0.0  0.073686    0.0   0.0  \n",
       "2548   0.0    0.0  0.0  0.000000    0.0   0.0  \n",
       "2549   0.0    0.0  0.0  0.369421    0.0   0.0  \n",
       "\n",
       "[2550 rows x 275 columns]"
      ]
     },
     "execution_count": 15,
     "metadata": {},
     "output_type": "execute_result"
    }
   ],
   "source": [
    "pd.DataFrame(X_train.toarray(), columns = vectorizer.get_feature_names_out())"
   ]
  },
  {
   "cell_type": "markdown",
   "id": "38ead29a",
   "metadata": {},
   "source": [
    "## Training LinearRegression"
   ]
  },
  {
   "cell_type": "code",
   "execution_count": 16,
   "id": "acbbcf4f",
   "metadata": {},
   "outputs": [
    {
     "data": {
      "text/html": [
       "<style>#sk-container-id-1 {color: black;background-color: white;}#sk-container-id-1 pre{padding: 0;}#sk-container-id-1 div.sk-toggleable {background-color: white;}#sk-container-id-1 label.sk-toggleable__label {cursor: pointer;display: block;width: 100%;margin-bottom: 0;padding: 0.3em;box-sizing: border-box;text-align: center;}#sk-container-id-1 label.sk-toggleable__label-arrow:before {content: \"▸\";float: left;margin-right: 0.25em;color: #696969;}#sk-container-id-1 label.sk-toggleable__label-arrow:hover:before {color: black;}#sk-container-id-1 div.sk-estimator:hover label.sk-toggleable__label-arrow:before {color: black;}#sk-container-id-1 div.sk-toggleable__content {max-height: 0;max-width: 0;overflow: hidden;text-align: left;background-color: #f0f8ff;}#sk-container-id-1 div.sk-toggleable__content pre {margin: 0.2em;color: black;border-radius: 0.25em;background-color: #f0f8ff;}#sk-container-id-1 input.sk-toggleable__control:checked~div.sk-toggleable__content {max-height: 200px;max-width: 100%;overflow: auto;}#sk-container-id-1 input.sk-toggleable__control:checked~label.sk-toggleable__label-arrow:before {content: \"▾\";}#sk-container-id-1 div.sk-estimator input.sk-toggleable__control:checked~label.sk-toggleable__label {background-color: #d4ebff;}#sk-container-id-1 div.sk-label input.sk-toggleable__control:checked~label.sk-toggleable__label {background-color: #d4ebff;}#sk-container-id-1 input.sk-hidden--visually {border: 0;clip: rect(1px 1px 1px 1px);clip: rect(1px, 1px, 1px, 1px);height: 1px;margin: -1px;overflow: hidden;padding: 0;position: absolute;width: 1px;}#sk-container-id-1 div.sk-estimator {font-family: monospace;background-color: #f0f8ff;border: 1px dotted black;border-radius: 0.25em;box-sizing: border-box;margin-bottom: 0.5em;}#sk-container-id-1 div.sk-estimator:hover {background-color: #d4ebff;}#sk-container-id-1 div.sk-parallel-item::after {content: \"\";width: 100%;border-bottom: 1px solid gray;flex-grow: 1;}#sk-container-id-1 div.sk-label:hover label.sk-toggleable__label {background-color: #d4ebff;}#sk-container-id-1 div.sk-serial::before {content: \"\";position: absolute;border-left: 1px solid gray;box-sizing: border-box;top: 0;bottom: 0;left: 50%;z-index: 0;}#sk-container-id-1 div.sk-serial {display: flex;flex-direction: column;align-items: center;background-color: white;padding-right: 0.2em;padding-left: 0.2em;position: relative;}#sk-container-id-1 div.sk-item {position: relative;z-index: 1;}#sk-container-id-1 div.sk-parallel {display: flex;align-items: stretch;justify-content: center;background-color: white;position: relative;}#sk-container-id-1 div.sk-item::before, #sk-container-id-1 div.sk-parallel-item::before {content: \"\";position: absolute;border-left: 1px solid gray;box-sizing: border-box;top: 0;bottom: 0;left: 50%;z-index: -1;}#sk-container-id-1 div.sk-parallel-item {display: flex;flex-direction: column;z-index: 1;position: relative;background-color: white;}#sk-container-id-1 div.sk-parallel-item:first-child::after {align-self: flex-end;width: 50%;}#sk-container-id-1 div.sk-parallel-item:last-child::after {align-self: flex-start;width: 50%;}#sk-container-id-1 div.sk-parallel-item:only-child::after {width: 0;}#sk-container-id-1 div.sk-dashed-wrapped {border: 1px dashed gray;margin: 0 0.4em 0.5em 0.4em;box-sizing: border-box;padding-bottom: 0.4em;background-color: white;}#sk-container-id-1 div.sk-label label {font-family: monospace;font-weight: bold;display: inline-block;line-height: 1.2em;}#sk-container-id-1 div.sk-label-container {text-align: center;}#sk-container-id-1 div.sk-container {/* jupyter's `normalize.less` sets `[hidden] { display: none; }` but bootstrap.min.css set `[hidden] { display: none !important; }` so we also need the `!important` here to be able to override the default hidden behavior on the sphinx rendered scikit-learn.org. See: https://github.com/scikit-learn/scikit-learn/issues/21755 */display: inline-block !important;position: relative;}#sk-container-id-1 div.sk-text-repr-fallback {display: none;}</style><div id=\"sk-container-id-1\" class=\"sk-top-container\"><div class=\"sk-text-repr-fallback\"><pre>LinearRegression()</pre><b>In a Jupyter environment, please rerun this cell to show the HTML representation or trust the notebook. <br />On GitHub, the HTML representation is unable to render, please try loading this page with nbviewer.org.</b></div><div class=\"sk-container\" hidden><div class=\"sk-item\"><div class=\"sk-estimator sk-toggleable\"><input class=\"sk-toggleable__control sk-hidden--visually\" id=\"sk-estimator-id-1\" type=\"checkbox\" checked><label for=\"sk-estimator-id-1\" class=\"sk-toggleable__label sk-toggleable__label-arrow\">LinearRegression</label><div class=\"sk-toggleable__content\"><pre>LinearRegression()</pre></div></div></div></div></div>"
      ],
      "text/plain": [
       "LinearRegression()"
      ]
     },
     "execution_count": 16,
     "metadata": {},
     "output_type": "execute_result"
    }
   ],
   "source": [
    "reg = LinearRegression()\n",
    "reg.fit(X_train, y_train)"
   ]
  },
  {
   "cell_type": "markdown",
   "id": "1660d421",
   "metadata": {},
   "source": [
    "## Metrics"
   ]
  },
  {
   "cell_type": "code",
   "execution_count": 17,
   "id": "fbec1536",
   "metadata": {},
   "outputs": [
    {
     "data": {
      "text/plain": [
       "0.5127495299796315"
      ]
     },
     "execution_count": 17,
     "metadata": {},
     "output_type": "execute_result"
    }
   ],
   "source": [
    "reg.score(X_train, y_train)"
   ]
  },
  {
   "cell_type": "code",
   "execution_count": 18,
   "id": "d71d85a9",
   "metadata": {},
   "outputs": [
    {
     "data": {
      "text/plain": [
       "0.7222506034562486"
      ]
     },
     "execution_count": 18,
     "metadata": {},
     "output_type": "execute_result"
    }
   ],
   "source": [
    "mean_squared_error(y_train, reg.predict(X_train), squared = False)"
   ]
  },
  {
   "cell_type": "code",
   "execution_count": 19,
   "id": "0e5ebbf7",
   "metadata": {},
   "outputs": [],
   "source": [
    "X_test = vectorizer.transform(df_test.excerpt)\n",
    "y_test = df_test.target"
   ]
  },
  {
   "cell_type": "code",
   "execution_count": 20,
   "id": "94f719e8",
   "metadata": {},
   "outputs": [
    {
     "data": {
      "text/plain": [
       "0.41916537515026353"
      ]
     },
     "execution_count": 20,
     "metadata": {},
     "output_type": "execute_result"
    }
   ],
   "source": [
    "reg.score(X_test, y_test)"
   ]
  },
  {
   "cell_type": "code",
   "execution_count": 21,
   "id": "d46006f4",
   "metadata": {},
   "outputs": [
    {
     "data": {
      "text/plain": [
       "0.777456789135069"
      ]
     },
     "execution_count": 21,
     "metadata": {},
     "output_type": "execute_result"
    }
   ],
   "source": [
    "mean_squared_error(y_test, reg.predict(X_test), squared = False)"
   ]
  },
  {
   "cell_type": "markdown",
   "id": "436784a0",
   "metadata": {},
   "source": [
    "## Trying DeepLearning"
   ]
  },
  {
   "cell_type": "code",
   "execution_count": 22,
   "id": "9679b136",
   "metadata": {},
   "outputs": [],
   "source": [
    "import nltk\n",
    "import gensim\n",
    "from tensorflow.keras.preprocessing.text import Tokenizer\n",
    "from keras.utils import pad_sequences\n",
    "import numpy as np"
   ]
  },
  {
   "cell_type": "code",
   "execution_count": 23,
   "id": "f8f84f51",
   "metadata": {},
   "outputs": [],
   "source": [
    "y = df_train[\"target\"].values\n",
    "#Converting X to format acceptable by gensim, removing annd punctuation stopwords in the process\n",
    "X = []\n",
    "stop_words = set(nltk.corpus.stopwords.words(\"english\"))\n",
    "tokenizer = nltk.tokenize.RegexpTokenizer(r'\\w+')\n",
    "for par in df_train[\"excerpt\"].values:\n",
    "    tmp = []\n",
    "    sentences = nltk.sent_tokenize(par)\n",
    "    for sent in sentences:\n",
    "        sent = sent.lower()\n",
    "        tokens = tokenizer.tokenize(sent)\n",
    "        filtered_words = [w.strip() for w in tokens if w not in stop_words and len(w) > 1]\n",
    "        tmp.extend(filtered_words)\n",
    "    X.append(tmp)"
   ]
  },
  {
   "cell_type": "code",
   "execution_count": 24,
   "id": "1c75270e",
   "metadata": {},
   "outputs": [],
   "source": [
    "#Dimension of vectors we are generating\n",
    "EMBEDDING_DIM = 100\n",
    "\n",
    "#Creating Word Vectors by Word2Vec Method (takes time...)\n",
    "w2v_model = gensim.models.Word2Vec(sentences=X, vector_size=EMBEDDING_DIM, window=5, min_count=1)"
   ]
  },
  {
   "cell_type": "code",
   "execution_count": 25,
   "id": "34345836",
   "metadata": {},
   "outputs": [],
   "source": [
    "# Tokenizing Text -> Repsesenting each word by a number\n",
    "# Mapping of orginal word to number is preserved in word_index property of tokenizer\n",
    "\n",
    "#Tokenized applies basic processing like changing it yo lower case, explicitely setting that as False\n",
    "tokenizer = Tokenizer()\n",
    "tokenizer.fit_on_texts(X)\n",
    "\n",
    "X = tokenizer.texts_to_sequences(X)"
   ]
  },
  {
   "cell_type": "code",
   "execution_count": 26,
   "id": "ca621998",
   "metadata": {},
   "outputs": [],
   "source": [
    "#Lets keep all news to 700, add padding to news with less than 700 words and truncating long ones\n",
    "maxlen = 700 \n",
    "\n",
    "#Making all news of size maxlen defined above\n",
    "X = pad_sequences(X, maxlen=maxlen)"
   ]
  },
  {
   "cell_type": "code",
   "execution_count": 27,
   "id": "ef4d87ef",
   "metadata": {},
   "outputs": [],
   "source": [
    "# Adding 1 because of reserved 0 index\n",
    "# Embedding Layer creates one more vector for \"UNKNOWN\" words, or padded words (0s). This Vector is filled with zeros.\n",
    "# Thus our vocab size inceeases by 1\n",
    "vocab_size = len(tokenizer.word_index) + 1"
   ]
  },
  {
   "cell_type": "code",
   "execution_count": 28,
   "id": "9b6cea12",
   "metadata": {},
   "outputs": [],
   "source": [
    "# Function to create weight matrix from word2vec gensim model\n",
    "def get_weight_matrix(model, vocab):\n",
    "    # total vocabulary size plus 0 for unknown words\n",
    "    vocab_size = len(vocab) + 1\n",
    "    # define weight matrix dimensions with all 0\n",
    "    weight_matrix = np.zeros((vocab_size, EMBEDDING_DIM))\n",
    "    # step vocab, store vectors using the Tokenizer's integer mapping\n",
    "    for word, i in vocab.items():\n",
    "        try:\n",
    "            weight_matrix[i] = model.wv[word]\n",
    "        except:\n",
    "            weight_matrix[i] = 0\n",
    "    return weight_matrix"
   ]
  },
  {
   "cell_type": "code",
   "execution_count": 29,
   "id": "10de8e72",
   "metadata": {},
   "outputs": [],
   "source": [
    "#Getting embedding vectors from word2vec and usings it as weights of non-trainable keras embedding layer\n",
    "embedding_vectors = get_weight_matrix(w2v_model, tokenizer.word_index)"
   ]
  },
  {
   "cell_type": "code",
   "execution_count": 30,
   "id": "a87677f1",
   "metadata": {},
   "outputs": [],
   "source": [
    "from sklearn.model_selection import train_test_split\n",
    "import keras\n",
    "from keras.models import Sequential\n",
    "from keras.layers import Dense,Embedding, LSTM\n",
    "from tensorflow.keras.metrics import RootMeanSquaredError"
   ]
  },
  {
   "cell_type": "code",
   "execution_count": 52,
   "id": "f82e1425",
   "metadata": {},
   "outputs": [],
   "source": [
    "#Defining Neural Network\n",
    "model = Sequential()\n",
    "#Non-trainable embeddidng layer\n",
    "model.add(Embedding(vocab_size, output_dim=EMBEDDING_DIM, weights=[embedding_vectors], input_length=maxlen, trainable=False))\n",
    "#LSTM \n",
    "model.add(LSTM(units=64))\n",
    "model.add(Dense(32, activation = 'relu'))\n",
    "model.add(Dense(16, activation = 'relu'))\n",
    "model.add(Dense(1, activation='relu'))\n",
    "\n",
    "model.compile(optimizer=keras.optimizers.Adam(learning_rate = 0.1), loss='mean_squared_error', metrics=['mean_squared_error'])"
   ]
  },
  {
   "cell_type": "code",
   "execution_count": 53,
   "id": "24f14d41",
   "metadata": {},
   "outputs": [
    {
     "name": "stdout",
     "output_type": "stream",
     "text": [
      "Model: \"sequential_7\"\n",
      "_________________________________________________________________\n",
      " Layer (type)                Output Shape              Param #   \n",
      "=================================================================\n",
      " embedding_7 (Embedding)     (None, 700, 100)          2547900   \n",
      "                                                                 \n",
      " lstm_7 (LSTM)               (None, 64)                42240     \n",
      "                                                                 \n",
      " dense_10 (Dense)            (None, 32)                2080      \n",
      "                                                                 \n",
      " dense_11 (Dense)            (None, 16)                528       \n",
      "                                                                 \n",
      " dense_12 (Dense)            (None, 1)                 17        \n",
      "                                                                 \n",
      "=================================================================\n",
      "Total params: 2,592,765\n",
      "Trainable params: 44,865\n",
      "Non-trainable params: 2,547,900\n",
      "_________________________________________________________________\n"
     ]
    }
   ],
   "source": [
    "model.summary()"
   ]
  },
  {
   "cell_type": "code",
   "execution_count": 49,
   "id": "7c30c129",
   "metadata": {},
   "outputs": [],
   "source": [
    "#Train test split\n",
    "X_train, X_test, y_train, y_test = train_test_split(X, y) "
   ]
  },
  {
   "cell_type": "code",
   "execution_count": 58,
   "id": "e25f1167",
   "metadata": {},
   "outputs": [
    {
     "name": "stdout",
     "output_type": "stream",
     "text": [
      "Epoch 1/5\n",
      "42/42 [==============================] - 18s 423ms/step - loss: 1.9572 - mean_squared_error: 1.9572 - val_loss: 2.1190 - val_mean_squared_error: 2.1190\n",
      "Epoch 2/5\n",
      "42/42 [==============================] - 18s 426ms/step - loss: 1.9572 - mean_squared_error: 1.9572 - val_loss: 2.1190 - val_mean_squared_error: 2.1190\n",
      "Epoch 3/5\n",
      "42/42 [==============================] - 18s 431ms/step - loss: 1.9572 - mean_squared_error: 1.9572 - val_loss: 2.1190 - val_mean_squared_error: 2.1190\n",
      "Epoch 4/5\n",
      "42/42 [==============================] - 18s 435ms/step - loss: 1.9572 - mean_squared_error: 1.9572 - val_loss: 2.1190 - val_mean_squared_error: 2.1190\n",
      "Epoch 5/5\n",
      "42/42 [==============================] - 18s 432ms/step - loss: 1.9572 - mean_squared_error: 1.9572 - val_loss: 2.1190 - val_mean_squared_error: 2.1190\n"
     ]
    }
   ],
   "source": [
    "history = model.fit(X_train, y_train, validation_split=0.3, epochs=5, batch_size = 32)"
   ]
  },
  {
   "cell_type": "code",
   "execution_count": 59,
   "id": "4739de5f",
   "metadata": {},
   "outputs": [
    {
     "name": "stdout",
     "output_type": "stream",
     "text": [
      "60/60 [==============================] - 10s 162ms/step - loss: 2.0058 - mean_squared_error: 2.0058\n",
      "RMSE of the model on Training Data is -  200.57740211486816 %\n",
      "20/20 [==============================] - 3s 163ms/step - loss: 1.9922 - mean_squared_error: 1.9922\n",
      "RMSE of the model on Testing Data is -  199.21562671661377 %\n"
     ]
    }
   ],
   "source": [
    "print(\"RMSE of the model on Training Data is - \" , model.evaluate(X_train,y_train)[1]*100 , \"%\")\n",
    "print(\"RMSE of the model on Testing Data is - \" , model.evaluate(X_test,y_test)[1]*100 , \"%\")"
   ]
  },
  {
   "cell_type": "code",
   "execution_count": 60,
   "id": "f7cddac0",
   "metadata": {},
   "outputs": [],
   "source": [
    "import matplotlib.pyplot as plt"
   ]
  },
  {
   "cell_type": "code",
   "execution_count": 61,
   "id": "7fbe6175",
   "metadata": {},
   "outputs": [
    {
     "data": {
      "image/png": "[encoded data removed]",
      "text/plain": [
       "<Figure size 640x480 with 1 Axes>"
      ]
     },
     "metadata": {},
     "output_type": "display_data"
    }
   ],
   "source": [
    "plt.plot(history.epoch, history.history[\"loss\"], 'g', label='Training loss')\n",
    "plt.plot(history.epoch, history.history[\"val_loss\"], 'r', label='Validation loss')\n",
    "plt.title('Training loss')\n",
    "plt.xlabel('Epochs')\n",
    "plt.ylabel('Loss')\n",
    "plt.legend()\n",
    "plt.show()"
   ]
  },
  {
   "cell_type": "markdown",
   "id": "ec7d3e79",
   "metadata": {},
   "source": [
    "Model achieved its maximum. So, potential solutions: 1) more powerful or just another architecture; 2) another embeddings;"
   ]
  },
  {
   "cell_type": "markdown",
   "id": "20e69cd1",
   "metadata": {},
   "source": [
    "## Creating pipeline"
   ]
  },
  {
   "cell_type": "code",
   "execution_count": 63,
   "id": "7f8396b7",
   "metadata": {},
   "outputs": [],
   "source": [
    "pipe = Pipeline([('TfIdfVectorizer', vectorizer), ('lin_reg', reg)])"
   ]
  },
  {
   "cell_type": "code",
   "execution_count": 64,
   "id": "50b7eefd",
   "metadata": {},
   "outputs": [],
   "source": [
    "input_test = df_test.excerpt"
   ]
  },
  {
   "cell_type": "code",
   "execution_count": 65,
   "id": "e09da64a",
   "metadata": {},
   "outputs": [
    {
     "data": {
      "text/plain": [
       "array([ 0.0529962 , -1.67632644, -0.31409163, -0.6495209 , -0.02370529,\n",
       "       -1.44005629, -1.72553555, -1.97412527, -2.69277126, -0.94825142,\n",
       "       -1.42208591, -1.0194327 , -0.56441026, -1.33752542, -0.08703927,\n",
       "       -1.77209206,  0.31472226, -1.69532406,  0.17719957, -1.20898888,\n",
       "        0.33633507, -1.08560483, -1.35664047,  0.35306978, -1.46128772,\n",
       "       -1.81036502, -0.3357261 ,  0.21295484, -0.51863351, -1.54494233,\n",
       "       -2.40607771, -2.4963286 , -0.67186878, -1.83912473,  0.343785  ,\n",
       "        0.10974265, -1.30235544, -0.54366559, -2.27244909, -0.53534308,\n",
       "       -0.71044057,  0.38763371, -0.52141193, -1.22854531, -1.68438236,\n",
       "       -1.47927559, -2.09120194, -1.73623348, -2.06446354, -1.7312224 ,\n",
       "       -0.60417827,  0.53737891, -1.29142935, -1.34279968, -0.9662292 ,\n",
       "       -0.44690106, -2.47224084, -0.72484627,  0.42699997, -2.01872247,\n",
       "       -1.32160845, -0.36905153, -1.05714072, -1.28437193, -1.00889198,\n",
       "        0.74371769,  0.36514993, -0.24148087, -0.96320386, -2.35491949,\n",
       "       -0.22146064, -1.63747923,  0.02596703, -0.76268042, -0.43440177,\n",
       "       -0.96721984, -0.74060849, -0.79483761, -1.30313099, -0.74557014,\n",
       "       -0.67562282, -1.13387085, -2.0506789 , -1.32299856, -0.63032233,\n",
       "       -1.79151663, -0.49825654, -1.37269156, -0.16589313, -0.56286955,\n",
       "       -0.67231979, -0.28955137, -0.52924106,  0.37163534, -1.35757351,\n",
       "       -0.89539063, -1.88732511, -1.53785132, -1.55728653, -0.36524202,\n",
       "       -1.82977112, -1.6202584 , -0.77658444, -0.02730015,  0.22124673,\n",
       "       -1.14812467, -1.19461219,  0.07095423, -0.77801515, -1.94100637,\n",
       "       -1.01499651, -1.42993249, -0.98482489, -0.64848403, -0.26577869,\n",
       "       -1.92078991, -2.46772473, -1.31121315, -0.11253903,  0.13901514,\n",
       "       -0.7465827 , -1.78627949, -1.32873489, -0.80531114, -0.1165441 ,\n",
       "       -0.29630175, -0.87342093, -1.72794871, -0.30905595, -0.43365192,\n",
       "       -1.26387888, -1.07743452, -0.03457968, -1.06470735, -0.91530688,\n",
       "        0.69802291, -1.593902  , -0.72895257, -2.48900112, -1.36864755,\n",
       "       -1.04079315, -0.88759041, -0.23360443, -1.81491972, -0.68756735,\n",
       "       -0.16928274,  0.2886944 , -1.43541125, -1.22842699, -0.95542388,\n",
       "       -0.64599643, -2.25775809,  0.0964224 , -0.92427302, -1.28123325,\n",
       "       -1.6417524 , -1.69841989, -0.40613843, -1.44443601, -0.93519189,\n",
       "       -0.71304689, -1.34152352, -0.02288002, -0.75581631,  0.25167503,\n",
       "       -1.69362442, -0.85647824, -1.46957145, -1.61003363, -2.10665854,\n",
       "       -1.53024433, -0.88584171, -1.6856708 , -1.53717183, -0.04353623,\n",
       "       -1.98915343, -0.64818519, -1.60421986, -1.32551612, -1.75317129,\n",
       "       -0.9655842 , -1.90568274, -0.3916363 , -0.96397135, -0.76259232,\n",
       "       -1.11963654, -2.07390332, -1.28317373, -0.5960217 , -0.34046768,\n",
       "       -0.69103107, -0.89936456, -1.4513338 , -1.31281358, -1.01686888,\n",
       "       -0.10060305, -0.17342151,  0.19028682, -1.83831148, -0.91721249,\n",
       "        0.26147277, -1.88011468, -0.33209673, -0.9421065 , -0.4961986 ,\n",
       "       -1.01319444,  0.22029119, -0.75734913, -0.64745319, -0.85348092,\n",
       "       -2.39573174, -1.07495817, -0.7519463 , -1.59297035, -0.35759126,\n",
       "        0.01342471, -0.07987931, -2.28893957, -2.24610138, -1.77505653,\n",
       "        0.44562205, -1.3123434 , -1.10205507, -1.51964883, -2.23753744,\n",
       "       -0.47970453, -0.68912362, -0.8534948 ,  0.66179593, -1.86307693,\n",
       "       -2.12515408, -0.03429611, -0.8201647 , -0.22761985, -0.94137238,\n",
       "       -0.72790635, -1.3259895 , -1.43583033, -0.01060562, -1.12191551,\n",
       "       -1.14954928,  0.16102112, -0.83155095, -2.45179025, -0.4259289 ,\n",
       "       -1.57049919, -1.3468104 , -2.21025194, -1.03520739, -1.11997465,\n",
       "       -1.2994153 ,  0.05558658, -2.23898365, -0.63067083, -0.67112204,\n",
       "        0.11602294, -0.79954465, -2.01461048, -0.62941223, -1.17487756,\n",
       "        0.52574695, -1.62332742, -0.67736031, -1.82537443, -0.07287034,\n",
       "       -0.67939855, -0.15290021, -0.57926411, -0.98179049, -1.15599846,\n",
       "       -0.84864012, -0.59286013, -0.39596612, -1.7442866 , -0.88218493,\n",
       "       -0.68088794, -2.72417629, -1.71816401, -0.50427576,  0.17079907,\n",
       "       -1.25677055, -0.26077943, -0.61743217, -0.42624165])"
      ]
     },
     "execution_count": 65,
     "metadata": {},
     "output_type": "execute_result"
    }
   ],
   "source": [
    "pipe.predict(input_test)"
   ]
  },
  {
   "cell_type": "code",
   "execution_count": 67,
   "id": "3921aa14",
   "metadata": {},
   "outputs": [
    {
     "data": {
      "text/plain": [
       "0.41916537515026353"
      ]
     },
     "execution_count": 67,
     "metadata": {},
     "output_type": "execute_result"
    }
   ],
   "source": [
    "pipe.score(input_test, df_test.target)"
   ]
  },
  {
   "cell_type": "markdown",
   "id": "4bc218a7",
   "metadata": {},
   "source": [
    "## Saving model"
   ]
  },
  {
   "cell_type": "code",
   "execution_count": 68,
   "id": "9476e8ae",
   "metadata": {},
   "outputs": [
    {
     "data": {
      "text/plain": [
       "['pipeline.gz']"
      ]
     },
     "execution_count": 68,
     "metadata": {},
     "output_type": "execute_result"
    }
   ],
   "source": [
    "joblib.dump(pipe, 'pipeline.gz')"
   ]
  },
  {
   "cell_type": "code",
   "execution_count": null,
   "id": "4642f80c",
   "metadata": {},
   "outputs": [],
   "source": []
  }
 ],
 "metadata": {
  "kernelspec": {
   "display_name": "Python 3 (ipykernel)",
   "language": "python",
   "name": "python3"
  },
  "language_info": {
   "codemirror_mode": {
    "name": "ipython",
    "version": 3
   },
   "file_extension": ".py",
   "mimetype": "text/x-python",
   "name": "python",
   "nbconvert_exporter": "python",
   "pygments_lexer": "ipython3",
   "version": "3.10.1"
  }
 },
 "nbformat": 4,
 "nbformat_minor": 5
}
